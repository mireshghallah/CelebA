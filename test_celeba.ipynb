{
 "cells": [
  {
   "cell_type": "code",
   "execution_count": 9,
   "metadata": {},
   "outputs": [],
   "source": [
    "import os\n",
    "import argparse\n",
    "from data_loader import get_loader\n",
    "from data_loader import get_dataset"
   ]
  },
  {
   "cell_type": "code",
   "execution_count": 10,
   "metadata": {},
   "outputs": [],
   "source": [
    "celeba_image_dir = '/home/niloofar/celeba/stargan/data/celeba/images'\n",
    "attr_path = '/home/niloofar/celeba/stargan/data/celeba/list_attr_celeba.txt'\n",
    "selected_attrs = ['Black_Hair' ,'Blond_Hair' ,'Brown_Hair' ,'Male' ,'Young']\n",
    "celeba_crop_size = 178\n",
    "image_size = 128\n",
    "batch_size = 1\n",
    "num_workers = 1\n",
    "mode = 'train'\n"
   ]
  },
  {
   "cell_type": "code",
   "execution_count": 11,
   "metadata": {},
   "outputs": [
    {
     "name": "stdout",
     "output_type": "stream",
     "text": [
      "Finished preprocessing the CelebA dataset...\n"
     ]
    }
   ],
   "source": [
    "celeba_loader = get_loader(celeba_image_dir, attr_path, selected_attrs,celeba_crop_size, image_size, batch_size,'CelebA', mode, num_workers)\n",
    "#celeba_dataset = get_dataset(celeba_image_dir, attr_path, selected_attrs,celeba_crop_size, image_size, batch_size,'CelebA', mode, num_workers)\n",
    "\n",
    "\n",
    "\n"
   ]
  },
  {
   "cell_type": "code",
   "execution_count": 12,
   "metadata": {},
   "outputs": [],
   "source": [
    "#x,y = celeba_dataset.__getitem__(4)"
   ]
  },
  {
   "cell_type": "code",
   "execution_count": 13,
   "metadata": {},
   "outputs": [
    {
     "name": "stdout",
     "output_type": "stream",
     "text": [
      "039568.jpg [False, False, True, False, True]\n",
      "068893.jpg [True, False, False, False, False]\n",
      "119654.jpg [False, False, True, False, True]\n",
      "torch.Size([1, 3, 128, 128])\n",
      "tensor([[0., 0., 1., 0., 1.]])\n"
     ]
    }
   ],
   "source": [
    "for (data, label) in celeba_loader:\n",
    "    print (data.shape)\n",
    "    print (label)\n",
    "    break"
   ]
  },
  {
   "cell_type": "code",
   "execution_count": 14,
   "metadata": {},
   "outputs": [
    {
     "data": {
      "image/jpeg": "[encoded data removed]",
      "text/plain": [
       "<IPython.core.display.Image object>"
      ]
     },
     "execution_count": 14,
     "metadata": {},
     "output_type": "execute_result"
    }
   ],
   "source": [
    "from IPython.display import Image\n",
    "Image(filename= '/home/niloofar/celeba/stargan/data/celeba/images/039568.jpg') "
   ]
  },
  {
   "cell_type": "code",
   "execution_count": null,
   "metadata": {},
   "outputs": [],
   "source": [
    "-1 -1  1 -1 -1 -1 -1 -1 -1  1 -1  1 -1 -1 -1 -1 -1 -1  1  1 -1  1 -1 -1  1 -1 -1  1 -1 -1 -1  1 -1 -1  1 -1  1 -1 -1  1"
   ]
  }
 ],
 "metadata": {
  "kernelspec": {
   "display_name": "Python 3",
   "language": "python",
   "name": "python3"
  },
  "language_info": {
   "codemirror_mode": {
    "name": "ipython",
    "version": 3
   },
   "file_extension": ".py",
   "mimetype": "text/x-python",
   "name": "python",
   "nbconvert_exporter": "python",
   "pygments_lexer": "ipython3",
   "version": "3.6.7"
  }
 },
 "nbformat": 4,
 "nbformat_minor": 2
}
